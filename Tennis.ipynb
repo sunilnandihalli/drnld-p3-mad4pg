{
 "cells": [
  {
   "cell_type": "markdown",
   "metadata": {},
   "source": [
    "# Collaboration and Competition\n",
    "\n",
    "---\n",
    "\n",
    "In this notebook, you will learn how to use the Unity ML-Agents environment for the third project of the [Deep Reinforcement Learning Nanodegree](https://www.udacity.com/course/deep-reinforcement-learning-nanodegree--nd893) program.\n",
    "\n",
    "### 1. Start the Environment\n",
    "\n",
    "We begin by importing the necessary packages.  If the code cell below returns an error, please revisit the project instructions to double-check that you have installed [Unity ML-Agents](https://github.com/Unity-Technologies/ml-agents/blob/master/docs/Installation.md) and [NumPy](http://www.numpy.org/)."
   ]
  },
  {
   "cell_type": "code",
   "execution_count": 1,
   "metadata": {},
   "outputs": [],
   "source": [
    "%load_ext autoreload\n",
    "%autoreload 2\n",
    "from unityagents import UnityEnvironment\n",
    "import numpy as np\n",
    "from collections import deque\n",
    "import torch\n",
    "import matplotlib.pyplot as plt\n",
    "%matplotlib inline\n",
    "from mad4pg import MAD4PG"
   ]
  },
  {
   "cell_type": "code",
   "execution_count": 2,
   "metadata": {},
   "outputs": [
    {
     "name": "stderr",
     "output_type": "stream",
     "text": [
      "INFO:unityagents:\n",
      "'Academy' started successfully!\n",
      "Unity Academy name: Academy\n",
      "        Number of Brains: 1\n",
      "        Number of External Brains : 1\n",
      "        Lesson number : 0\n",
      "        Reset Parameters :\n",
      "\t\t\n",
      "Unity brain name: TennisBrain\n",
      "        Number of Visual Observations (per agent): 0\n",
      "        Vector Observation space type: continuous\n",
      "        Vector Observation space size (per agent): 8\n",
      "        Number of stacked Vector Observation: 3\n",
      "        Vector Action space type: continuous\n",
      "        Vector Action space size (per agent): 2\n",
      "        Vector Action descriptions: , \n"
     ]
    }
   ],
   "source": [
    "env = UnityEnvironment(file_name=\"Tennis_Linux/Tennis.x86_64\")"
   ]
  },
  {
   "cell_type": "code",
   "execution_count": 3,
   "metadata": {},
   "outputs": [],
   "source": [
    "# get the default brain\n",
    "brain_name = env.brain_names[0]\n",
    "brain = env.brains[brain_name]"
   ]
  },
  {
   "cell_type": "markdown",
   "metadata": {},
   "source": [
    "### 2. Examine the State and Action Spaces\n",
    "\n",
    "In this environment, two agents control rackets to bounce a ball over a net. If an agent hits the ball over the net, it receives a reward of +0.1.  If an agent lets a ball hit the ground or hits the ball out of bounds, it receives a reward of -0.01.  Thus, the goal of each agent is to keep the ball in play.\n",
    "\n",
    "The observation space consists of 8 variables corresponding to the position and velocity of the ball and racket. Two continuous actions are available, corresponding to movement toward (or away from) the net, and jumping. \n",
    "\n",
    "Run the code cell below to print some information about the environment."
   ]
  },
  {
   "cell_type": "code",
   "execution_count": 4,
   "metadata": {},
   "outputs": [
    {
     "name": "stdout",
     "output_type": "stream",
     "text": [
      "Number of agents: 2\n",
      "Size of each action: 2\n",
      "There are 2 agents. Each observes a state with length: 24\n",
      "The state for the first agent looks like: [ 0.          0.          0.          0.          0.          0.\n",
      "  0.          0.          0.          0.          0.          0.\n",
      "  0.          0.          0.          0.         -6.65278625 -1.5\n",
      " -0.          0.          6.83172083  6.         -0.          0.        ]\n"
     ]
    }
   ],
   "source": [
    "# reset the environment\n",
    "env_info = env.reset(train_mode=True)[brain_name]\n",
    "\n",
    "# number of agents \n",
    "num_agents = len(env_info.agents)\n",
    "print('Number of agents:', num_agents)\n",
    "\n",
    "# size of each action\n",
    "action_size = brain.vector_action_space_size\n",
    "print('Size of each action:', action_size)\n",
    "\n",
    "# examine the state space \n",
    "states = env_info.vector_observations\n",
    "state_size = states.shape[1]\n",
    "print('There are {} agents. Each observes a state with length: {}'.format(states.shape[0], state_size))\n",
    "print('The state for the first agent looks like:', states[0])"
   ]
  },
  {
   "cell_type": "markdown",
   "metadata": {},
   "source": [
    "### 3. Take Random Actions in the Environment\n",
    "\n",
    "In the next code cell, you will learn how to use the Python API to control the agents and receive feedback from the environment.\n",
    "\n",
    "Once this cell is executed, you will watch the agents' performance, if they select actions at random with each time step.  A window should pop up that allows you to observe the agents.\n",
    "\n",
    "Of course, as part of the project, you'll have to change the code so that the agents are able to use their experiences to gradually choose better actions when interacting with the environment!"
   ]
  },
  {
   "cell_type": "code",
   "execution_count": 5,
   "metadata": {},
   "outputs": [
    {
     "name": "stdout",
     "output_type": "stream",
     "text": [
      "Score (max over agents) from episode 1: 0.0\n",
      "Score (max over agents) from episode 2: 0.0\n",
      "Score (max over agents) from episode 3: 0.0\n",
      "Score (max over agents) from episode 4: 0.0\n",
      "Score (max over agents) from episode 5: 0.09000000171363354\n"
     ]
    }
   ],
   "source": [
    "for i in range(1, 6):                                      # play game for 5 episodes\n",
    "    env_info = env.reset(train_mode=False)[brain_name]     # reset the environment    \n",
    "    states = env_info.vector_observations                  # get the current state (for each agent)\n",
    "    scores = np.zeros(num_agents)                          # initialize the score (for each agent)\n",
    "    while True:\n",
    "        actions = np.random.randn(num_agents, action_size) # select an action (for each agent)\n",
    "        actions = np.clip(actions, -1, 1)                  # all actions between -1 and 1\n",
    "        env_info = env.step(actions)[brain_name]           # send all actions to tne environment\n",
    "        next_states = env_info.vector_observations         # get next state (for each agent)\n",
    "        rewards = env_info.rewards                         # get reward (for each agent)\n",
    "        dones = env_info.local_done                        # see if episode finished\n",
    "        scores += env_info.rewards                         # update the score (for each agent)\n",
    "        states = next_states                               # roll over states to next time step\n",
    "        if np.any(dones):                                  # exit loop if episode finished\n",
    "            break\n",
    "    print('Score (max over agents) from episode {}: {}'.format(i, np.max(scores)))"
   ]
  },
  {
   "cell_type": "markdown",
   "metadata": {},
   "source": [
    "### 4. It's Your Turn!\n",
    "\n",
    "Now it's your turn to train your own agent to solve the environment!  When training the environment, set `train_mode=True`, so that the line for resetting the environment looks like the following:\n",
    "```python\n",
    "env_info = env.reset(train_mode=True)[brain_name]\n",
    "```"
   ]
  },
  {
   "cell_type": "code",
   "execution_count": 6,
   "metadata": {},
   "outputs": [],
   "source": [
    "def train(check_pt_path,n_episodes=10000,isSolve=True):\n",
    "    \"\"\"Learning.\n",
    "    \n",
    "    Params\n",
    "    ======\n",
    "        n_episodes (int): maximum number of training episodes\n",
    "        max_t (int): maximum number of timesteps per episode\n",
    "        eps_start (float): starting value of epsilon, for epsilon-greedy action selection\n",
    "        eps_end (float): minimum value of epsilon\n",
    "        eps_decay (float): multiplicative factor (per episode) for decreasing epsilon\n",
    "    \"\"\"\n",
    "    brain_name = env.brain_names[0]\n",
    "    brain = env.brains[brain_name]\n",
    "    \n",
    "    avgscores=[]\n",
    "    scores=[]\n",
    "    scores1 = []\n",
    "    scores2 = []# list containing scores from each episode\n",
    "    scores_window = deque(maxlen=100)  # last 100 scores\n",
    "    for i_episode in range(1, n_episodes+1):\n",
    "        env_info = env.reset(train_mode=True)[brain_name]\n",
    "        states= env_info.vector_observations\n",
    "        score1 = 0\n",
    "        score2 = 0\n",
    "        reward_done_history = []\n",
    "        while True:\n",
    "            actions = multiagent.acts(states)\n",
    "            env_info=env.step(actions)[brain_name]\n",
    "            next_states = env_info.vector_observations\n",
    "            rewards = env_info.rewards\n",
    "            dones = env_info.local_done\n",
    "            multiagent.step(states,actions, rewards, next_states, dones)\n",
    "            states = next_states\n",
    "            score1 += rewards[0]\n",
    "            score2 += rewards[1]\n",
    "            reward_done_history.append((rewards,dones))\n",
    "            if dones[0]:\n",
    "                atleast_one_reward_is_negative = rewards[0]<0 or rewards[1]<0\n",
    "                both_agents_are_done = dones[0] and dones[1]\n",
    "                break\n",
    "            else:\n",
    "                both_rewards_are_positive = rewards[0]>=0 and rewards[1]>=0\n",
    "                both_agents_are_not_done = (not dones[0]) and (not dones[1])\n",
    "        score=max(score1,score2)        \n",
    "        scores_window.append(score)       # save most recent score\n",
    "        scores.append(score)              # save most recent score\n",
    "        scores1.append(score1)\n",
    "        scores2.append(score2)\n",
    "        print('\\rEpisode {}\\tAverage Score: {:.6f}'.format(i_episode, np.mean(scores_window)), \n",
    "              end=(\".\"*(i_episode%10)+\" \"*(10-(i_episode%10))))\n",
    "        if i_episode % 100 == 0:\n",
    "            print('\\rEpisode {}\\tAverage Score: {:.6f}'.format(i_episode, np.mean(scores_window)))\n",
    "            avgscores.append(np.mean(scores_window))\n",
    "        if np.mean(scores_window)>0.5 and isSolve:\n",
    "            print('\\nEnvironment solved in {:d} episodes!\\tAverage Score: {:.6f}'.format(i_episode-100, np.mean(scores_window)))\n",
    "            torch.save(multiagent.mad4pg_agent[0].actor_local.state_dict(),check_pt_path+'_actor1_solved.pth')\n",
    "            torch.save(multiagent.mad4pg_agent[1].actor_local.state_dict(),check_pt_path+'_actor2_solved.pth')\n",
    "            isSolve=False\n",
    "    torch.save(multiagent.mad4pg_agent[0].actor_local.state_dict(),check_pt_path+'_actor1_last.pth')\n",
    "    torch.save(multiagent.mad4pg_agent[1].actor_local.state_dict(),check_pt_path+'_actor2_last.pth')\n",
    "    return scores,scores1,scores2\n"
   ]
  },
  {
   "cell_type": "code",
   "execution_count": 7,
   "metadata": {
    "scrolled": true
   },
   "outputs": [
    {
     "name": "stdout",
     "output_type": "stream",
     "text": [
      "Episode 100\tAverage Score: 0.002800          \n",
      "Episode 200\tAverage Score: 0.000000          \n",
      "Episode 300\tAverage Score: 0.000000          \n",
      "Episode 400\tAverage Score: 0.000000          \n",
      "Episode 500\tAverage Score: 0.031900          \n",
      "Episode 600\tAverage Score: 0.037700          \n",
      "Episode 700\tAverage Score: 0.035200          \n",
      "Episode 800\tAverage Score: 0.015200          \n",
      "Episode 900\tAverage Score: 0.006700          \n",
      "Episode 1000\tAverage Score: 0.014100          \n",
      "Episode 1100\tAverage Score: 0.055600          \n",
      "Episode 1200\tAverage Score: 0.046500          \n",
      "Episode 1300\tAverage Score: 0.000000          \n",
      "Episode 1400\tAverage Score: 0.000000          \n",
      "Episode 1500\tAverage Score: 0.035500          \n",
      "Episode 1600\tAverage Score: 0.049400          \n",
      "Episode 1700\tAverage Score: 0.054100          \n",
      "Episode 1800\tAverage Score: 0.117600          \n",
      "Episode 1900\tAverage Score: 0.095000          \n",
      "Episode 2000\tAverage Score: 0.086600          \n",
      "Episode 2100\tAverage Score: 0.078700          \n",
      "Episode 2200\tAverage Score: 0.072900          \n",
      "Episode 2300\tAverage Score: 0.078900          \n",
      "Episode 2400\tAverage Score: 0.073900          \n",
      "Episode 2500\tAverage Score: 0.084000          \n",
      "Episode 2600\tAverage Score: 0.097000          \n",
      "Episode 2700\tAverage Score: 0.087900          \n",
      "Episode 2800\tAverage Score: 0.079900          \n",
      "Episode 2900\tAverage Score: 0.100000          \n",
      "Episode 3000\tAverage Score: 0.097500          \n",
      "Episode 3100\tAverage Score: 0.104800          \n",
      "Episode 3200\tAverage Score: 0.093500          \n",
      "Episode 3300\tAverage Score: 0.101400          \n",
      "Episode 3400\tAverage Score: 0.101000          \n",
      "Episode 3500\tAverage Score: 0.081500          \n",
      "Episode 3600\tAverage Score: 0.091700          \n",
      "Episode 3700\tAverage Score: 0.091500          \n",
      "Episode 3800\tAverage Score: 0.109500          \n",
      "Episode 3900\tAverage Score: 0.133800          \n",
      "Episode 4000\tAverage Score: 0.110900          \n",
      "Episode 4100\tAverage Score: 0.099700          \n",
      "Episode 4200\tAverage Score: 0.109900          \n",
      "Episode 4300\tAverage Score: 0.137700          \n",
      "Episode 4400\tAverage Score: 0.114500          \n",
      "Episode 4500\tAverage Score: 0.111700          \n",
      "Episode 4600\tAverage Score: 0.151700          \n",
      "Episode 4700\tAverage Score: 0.143800          \n",
      "Episode 4800\tAverage Score: 0.128500          \n",
      "Episode 4900\tAverage Score: 0.155400          \n",
      "Episode 5000\tAverage Score: 0.139200          \n",
      "Episode 5100\tAverage Score: 0.152100          \n",
      "Episode 5200\tAverage Score: 0.160400          \n",
      "Episode 5300\tAverage Score: 0.140600          \n",
      "Episode 5400\tAverage Score: 0.128200          \n",
      "Episode 5500\tAverage Score: 0.177200          \n",
      "Episode 5600\tAverage Score: 0.180100          \n",
      "Episode 5700\tAverage Score: 0.173100          \n",
      "Episode 5800\tAverage Score: 0.136200          \n",
      "Episode 5900\tAverage Score: 0.139200          \n",
      "Episode 6000\tAverage Score: 0.140500          \n",
      "Episode 6100\tAverage Score: 0.137700          \n",
      "Episode 6200\tAverage Score: 0.209200          \n",
      "Episode 6300\tAverage Score: 0.172100          \n",
      "Episode 6400\tAverage Score: 0.193100          \n",
      "Episode 6500\tAverage Score: 0.203200          \n",
      "Episode 6600\tAverage Score: 0.332700          \n",
      "Episode 6700\tAverage Score: 0.310800          \n",
      "Episode 6800\tAverage Score: 0.358700          \n",
      "Episode 6900\tAverage Score: 0.362400          \n",
      "Episode 7000\tAverage Score: 0.303700          \n",
      "Episode 7100\tAverage Score: 0.416500          \n",
      "Episode 7153\tAverage Score: 0.512400...       \n",
      "Environment solved in 7053 episodes!\tAverage Score: 0.512400\n",
      "Episode 7200\tAverage Score: 0.409500          \n",
      "Episode 7300\tAverage Score: 0.372300          \n",
      "Episode 7400\tAverage Score: 0.789800          \n",
      "Episode 7500\tAverage Score: 1.503200          \n",
      "Episode 7600\tAverage Score: 1.453300          \n",
      "Episode 7700\tAverage Score: 1.506700          \n",
      "Episode 7800\tAverage Score: 1.462000          \n",
      "Episode 7900\tAverage Score: 1.666700          \n",
      "Episode 8000\tAverage Score: 1.757700          \n",
      "Episode 8100\tAverage Score: 1.217600          \n",
      "Episode 8200\tAverage Score: 1.359900          \n",
      "Episode 8300\tAverage Score: 1.238400          \n",
      "Episode 8400\tAverage Score: 0.843900          \n",
      "Episode 8500\tAverage Score: 0.532000          \n",
      "Episode 8600\tAverage Score: 0.456800          \n",
      "Episode 8700\tAverage Score: 0.999800          \n",
      "Episode 8800\tAverage Score: 1.137000          \n",
      "Episode 8900\tAverage Score: 0.808900          \n",
      "Episode 9000\tAverage Score: 1.167700          \n",
      "Episode 9100\tAverage Score: 1.179600          \n",
      "Episode 9200\tAverage Score: 1.303700          \n",
      "Episode 9300\tAverage Score: 1.438000          \n",
      "Episode 9400\tAverage Score: 1.277900          \n",
      "Episode 9500\tAverage Score: 1.393900          \n",
      "Episode 9600\tAverage Score: 0.905700          \n",
      "Episode 9700\tAverage Score: 0.707800          \n",
      "Episode 9800\tAverage Score: 0.956000          \n",
      "Episode 9900\tAverage Score: 1.001700          \n",
      "Episode 10000\tAverage Score: 1.023700          \n"
     ]
    }
   ],
   "source": [
    "# train multi agent with D4PG\n",
    "multiagent=MAD4PG(24,2,32,buffer_size = int(1e6),batch_size = 64,gamma = 0.99,tau = 1e-2,update_every = 4,num_mc_steps=5)\n",
    "scores,scores1,scores2 = train(check_pt_path='trained_agent',n_episodes=10000)"
   ]
  },
  {
   "cell_type": "code",
   "execution_count": 8,
   "metadata": {},
   "outputs": [
    {
     "data": {
      "image/png": "[encoded data removed]",
      "text/plain": [
       "<Figure size 432x288 with 1 Axes>"
      ]
     },
     "metadata": {
      "needs_background": "light"
     },
     "output_type": "display_data"
    },
    {
     "data": {
      "image/png": "[encoded data removed]",
      "text/plain": [
       "<Figure size 432x288 with 1 Axes>"
      ]
     },
     "metadata": {
      "needs_background": "light"
     },
     "output_type": "display_data"
    }
   ],
   "source": [
    "\n",
    "# plot the scores\n",
    "fig = plt.figure()\n",
    "ax = fig.add_subplot(111)\n",
    "plt.plot(np.arange(len(scores)), scores)\n",
    "plt.ylabel('Score')\n",
    "plt.xlabel('Episode #')\n",
    "plt.show()\n",
    "\n",
    "fig = plt.figure()\n",
    "ax = fig.add_subplot(111)\n",
    "plt.plot(np.arange(len(scores1)), scores1)\n",
    "plt.plot(np.arange(len(scores2)), scores2)\n",
    "plt.ylabel('Score')\n",
    "plt.xlabel('Episode #')\n",
    "plt.legend(['agent1', 'agent2'], loc='lower right')\n",
    "plt.show()\n"
   ]
  }
 ],
 "metadata": {
  "kernelspec": {
   "display_name": "Python 3",
   "language": "python",
   "name": "python3"
  },
  "language_info": {
   "codemirror_mode": {
    "name": "ipython",
    "version": 3
   },
   "file_extension": ".py",
   "mimetype": "text/x-python",
   "name": "python",
   "nbconvert_exporter": "python",
   "pygments_lexer": "ipython3",
   "version": "3.6.7"
  }
 },
 "nbformat": 4,
 "nbformat_minor": 2
}
